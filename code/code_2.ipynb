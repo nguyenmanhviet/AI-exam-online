{
 "cells": [
  {
   "cell_type": "code",
   "execution_count": 1,
   "metadata": {},
   "outputs": [],
   "source": [
    "import cv2\n",
    "import numpy as np\n",
    "import matplotlib.pyplot as plt\n",
    "from imutils import face_utils\n",
    "import imutils\n",
    "from threading import Thread\n",
    "import dlib\n",
    "import cv2\n",
    "import pandas as pd"
   ]
  },
  {
   "cell_type": "code",
   "execution_count": 2,
   "metadata": {},
   "outputs": [],
   "source": [
    "\n",
    "def e_dist(pA, pB):\n",
    "\treturn np.linalg.norm(pA - pB)"
   ]
  },
  {
   "cell_type": "code",
   "execution_count": 3,
   "metadata": {},
   "outputs": [],
   "source": [
    "def eye_ratio(eye):\n",
    "\t\n",
    "\td_V1 = e_dist(eye[1], eye[5])\n",
    "\td_V2 = e_dist(eye[2], eye[4])\n",
    "\n",
    "\t\n",
    "\td_H = e_dist(eye[0], eye[3])\n",
    "\n",
    "\t\n",
    "\teye_ratio_val = (d_V1 + d_V2) / (2.0 * d_H)\n",
    "\n",
    "\treturn eye_ratio_val"
   ]
  },
  {
   "cell_type": "code",
   "execution_count": 4,
   "metadata": {},
   "outputs": [],
   "source": [
    "def max_face(face):\n",
    "    w_max = 0\n",
    "    index = 0\n",
    "    for i, (x, y, w, h) in enumerate(face):\n",
    "        if w >= w_max:\n",
    "            w_max = w\n",
    "            index = i\n",
    "    return index\n",
    "    "
   ]
  },
  {
   "cell_type": "code",
   "execution_count": 5,
   "metadata": {},
   "outputs": [],
   "source": [
    "face_detect = cv2.CascadeClassifier(\"haarcascade_frontalface_default.xml\")\n",
    "landmark_detect = dlib.shape_predictor(\"shape_predictor_68_face_landmarks.dat\")"
   ]
  },
  {
   "cell_type": "code",
   "execution_count": 6,
   "metadata": {},
   "outputs": [],
   "source": [
    "(left_eye_start, left_eye_end) = face_utils.FACIAL_LANDMARKS_IDXS[\"left_eye\"]\n",
    "(right_eye_start, right_eye_end) = face_utils.FACIAL_LANDMARKS_IDXS[\"right_eye\"]"
   ]
  },
  {
   "cell_type": "code",
   "execution_count": 7,
   "metadata": {},
   "outputs": [],
   "source": [
    "eye_ratio_threshold = 0.22\n",
    "head_ratio_threshold = 0.25\n",
    "# bw_threshold = 63"
   ]
  },
  {
   "cell_type": "code",
   "execution_count": 8,
   "metadata": {},
   "outputs": [],
   "source": [
    "\n",
    "max_sleep_frames = 2\n",
    "\n",
    "\n",
    "sleep_frames = 0"
   ]
  },
  {
   "cell_type": "code",
   "execution_count": 9,
   "metadata": {},
   "outputs": [
    {
     "ename": "KeyboardInterrupt",
     "evalue": "",
     "output_type": "error",
     "traceback": [
      "\u001B[0;31m---------------------------------------------------------------------------\u001B[0m",
      "\u001B[0;31mKeyboardInterrupt\u001B[0m                         Traceback (most recent call last)",
      "Cell \u001B[0;32mIn [9], line 7\u001B[0m\n\u001B[1;32m      5\u001B[0m \u001B[38;5;66;03m# print('ok')\u001B[39;00m\n\u001B[1;32m      6\u001B[0m \u001B[38;5;28;01mwhile\u001B[39;00m \u001B[38;5;28;01mTrue\u001B[39;00m:\n\u001B[0;32m----> 7\u001B[0m     ret, frame \u001B[38;5;241m=\u001B[39m \u001B[43mcamera\u001B[49m\u001B[38;5;241;43m.\u001B[39;49m\u001B[43mread\u001B[49m\u001B[43m(\u001B[49m\u001B[43m)\u001B[49m\n\u001B[1;32m      8\u001B[0m     frame \u001B[38;5;241m=\u001B[39m cv2\u001B[38;5;241m.\u001B[39mflip(frame,\u001B[38;5;241m1\u001B[39m)\n\u001B[1;32m     10\u001B[0m     \u001B[38;5;28;01mif\u001B[39;00m \u001B[38;5;129;01mnot\u001B[39;00m ret:\n",
      "\u001B[0;31mKeyboardInterrupt\u001B[0m: "
     ]
    }
   ],
   "source": [
    "url = 0\n",
    "camera = cv2.VideoCapture(url)\n",
    "\n",
    "y_list = []\n",
    "# print('ok')\n",
    "while True:\n",
    "    ret, frame = camera.read()\n",
    "    frame = cv2.flip(frame,1)\n",
    "\n",
    "    if not ret:\n",
    "        cv2.waitKey(10)\n",
    "        \n",
    "        camera.release()\n",
    "        cv2.destroyAllWindows()\n",
    "        break\n",
    "\n",
    "    # frame = cv2.cvtColor(frame, cv2.COLOR_BGR2RGB)\n",
    "\n",
    "    \n",
    "    frame = imutils.resize(frame, width=800)\n",
    "\n",
    "    \n",
    "    gray = cv2.cvtColor(frame, cv2.COLOR_BGR2GRAY)\n",
    "\n",
    "    # (thresh, black_and_white) = cv2.threshold(gray, bw_threshold, 255, cv2.THRESH_BINARY)\n",
    "    # cv2.imshow('black_and_white', black_and_white)\n",
    "\n",
    "    \n",
    "    faces = face_detect.detectMultiScale(gray, scaleFactor=1.1,\tminNeighbors=5, minSize=(200, 200),\tflags=cv2.CASCADE_SCALE_IMAGE)\n",
    "    # faces_bw = face_detect.detectMultiScale(black_and_white, scaleFactor=1.1,\tminNeighbors=5, minSize=(100, 100),\tflags=cv2.CASCADE_SCALE_IMAGE)\n",
    "    # print(faces)\n",
    "\n",
    "    # if len(faces_bw) > 0:\n",
    "    #     index_f = max_face(faces_bw)\n",
    "    #     (x,y,w,h) = faces_bw[index_f]\n",
    "\n",
    "    #     cv2.rectangle(frame, (x,y), (x+w,y+h), (255,0,0), 3)\n",
    "\n",
    "    if len(faces) > 0: \n",
    "\n",
    "        index_f = max_face(faces)\n",
    "\n",
    "        (x,y,w,h) = faces[index_f]\n",
    "        # print(faces[index_f])\n",
    "        # for (x, y, w, h) in faces:\n",
    "\n",
    "        \n",
    "        rect = dlib.rectangle(int(x), int(y), int(x + w), int(y + h))\n",
    "        cv2.rectangle(frame, (x,y), (x+w,y+h), (255,0,0), 3)\n",
    "\n",
    "        \n",
    "        landmark = landmark_detect(gray, rect)\n",
    "        landmark = face_utils.shape_to_np(landmark)\n",
    "\n",
    "        \n",
    "        leftEye = landmark[left_eye_start:left_eye_end]\n",
    "        rightEye = landmark[right_eye_start:right_eye_end]\n",
    "\n",
    "        left_eye_ratio = eye_ratio(leftEye)\n",
    "        right_eye_ratio = eye_ratio(rightEye)\n",
    "\n",
    "        eye_avg_ratio = (left_eye_ratio + right_eye_ratio) / 2.0\n",
    "\n",
    "        \n",
    "        left_eye_bound = cv2.convexHull(leftEye)\n",
    "        right_eye_bound = cv2.convexHull(rightEye)\n",
    "        cv2.drawContours(frame, [left_eye_bound], -1, (0, 255, 0), 2)\n",
    "        cv2.drawContours(frame, [right_eye_bound], -1, (0, 255, 0), 2)\n",
    "\n",
    "        \n",
    "        nose = landmark[29]\n",
    "        left_head = landmark[1]\n",
    "        right_head = landmark[15]\n",
    "\n",
    "        \n",
    "        cv2.line(frame, left_head, nose, (0,255,255), 2)\n",
    "        cv2.line(frame, right_head, nose, (255,255,0), 2)\n",
    "\n",
    "        \n",
    "        left_head_ratio = e_dist(nose, left_head) / w\n",
    "        right_head_ratio = e_dist(nose, right_head) / w\n",
    "\n",
    "        head_avg_ratio = (left_head_ratio + right_head_ratio)/2.0\n",
    "\n",
    "        # if left_jaw_ratio < jaw_ratio_threshold or right_jaw_ratio < jaw_ratio_threshold:\n",
    "        #     print('left:',left_jaw_ratio)\n",
    "        #     print('right:',right_jaw_ratio)\n",
    "        #     print('-------------')\n",
    "\n",
    "        \n",
    "        if eye_avg_ratio < eye_ratio_threshold:\n",
    "            sleep_frames += 1\n",
    "\n",
    "            if sleep_frames >= max_sleep_frames:\n",
    "\n",
    "                \n",
    "                cv2.putText(frame, \"LOW  -  Eye\", (x,y-10), cv2.FONT_HERSHEY_SIMPLEX, 1, (0, 255, 255), 2)\n",
    "                y_list.append(0)\n",
    "                # st.header('LOW')\n",
    "\n",
    "        \n",
    "        else:\n",
    "\n",
    "            if left_head_ratio < head_ratio_threshold or right_head_ratio < head_ratio_threshold:\n",
    "                cv2.putText(frame, \"LOW  -  Head\", (x,y-10), cv2.FONT_HERSHEY_SIMPLEX, 1, (255, 0, 255), 2)\n",
    "                y_list.append(0)\n",
    "\n",
    "            else: \n",
    "\n",
    "                \n",
    "                sleep_frames = 0\n",
    "                alarmed = False\n",
    "\n",
    "                \n",
    "                cv2.putText(frame, \"EYE AVG RATIO: {:.3f}\".format(eye_avg_ratio), ((x+120,y-50)),\tcv2.FONT_HERSHEY_SIMPLEX, 0.5, (255, 255, 0), 2)\n",
    "                cv2.putText(frame, \"HEAD AVG RATIO: {:.3f}\".format(head_avg_ratio), ((x+120,y-20)),\tcv2.FONT_HERSHEY_SIMPLEX, 0.5, (255, 255, 0), 2)\n",
    "                cv2.putText(frame, \"HIGH!!!\", (x,y-50), cv2.FONT_HERSHEY_SIMPLEX, 1, (255, 255, 0), 2)\n",
    "                y_list.append(1)\n",
    "\n",
    "    else: \n",
    "        cv2.putText(frame, \"LOW  -  Face\", (300,300), cv2.FONT_HERSHEY_SIMPLEX, 1, (0, 0, 255), 2)\n",
    "        y_list.append(0)\n",
    "\n",
    "\n",
    "    cv2.imshow('Mood Detection',frame)\n",
    "\n",
    "    k = cv2.waitKey(10) & 0xFF\n",
    "    if k == 27: break\n",
    "\n",
    "camera.release()\n",
    "cv2.destroyAllWindows()\n",
    "\n",
    "plt.plot(range(len(y_list)),y_list)\n",
    "\n",
    "print('Tổng số phút:', round(len(y_list)/6000, 2))\n",
    "print('Tổng số phút tập trung:', round(np.count_nonzero(y_list)/6000, 2))"
   ]
  },
  {
   "cell_type": "code",
   "execution_count": null,
   "metadata": {},
   "outputs": [],
   "source": [
    "camera.release()"
   ]
  },
  {
   "cell_type": "code",
   "execution_count": null,
   "metadata": {},
   "outputs": [],
   "source": []
  }
 ],
 "metadata": {
  "interpreter": {
   "hash": "9073697f5ad7e286dffd523b4a818880d2c34921ab96658ab19f09eb50b73a77"
  },
  "kernelspec": {
   "display_name": "Python 3.9.1 ('base')",
   "language": "python",
   "name": "python3"
  },
  "language_info": {
   "codemirror_mode": {
    "name": "ipython",
    "version": 3
   },
   "file_extension": ".py",
   "mimetype": "text/x-python",
   "name": "python",
   "nbconvert_exporter": "python",
   "pygments_lexer": "ipython3",
   "version": "3.9.1"
  },
  "orig_nbformat": 4
 },
 "nbformat": 4,
 "nbformat_minor": 2
}
